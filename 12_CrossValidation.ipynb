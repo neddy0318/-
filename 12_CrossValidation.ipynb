{
 "cells": [
  {
   "cell_type": "markdown",
   "metadata": {},
   "source": [
    "# 교차 검증\n",
    "\n",
    "## 1. 개요\n",
    "\n",
    "&nbsp;&nbsp; 교차검증이란 머신러닝의 과적합을 막기 위해 고안된 것으로, 모델을 학습시킬 때 데이터를 훈련용과 검증용으로 나눠서 교차 검증하는 방법입니다. \n",
    "\n",
    "## 2. 장단점\n",
    "\n",
    "&nbsp;&nbsp; 과적합 방지가 기본적인 목적인만큼 과적합을 방지하고, 모델의 일반화 가능성을 높일 수 있다는 장점이 있습니다. 특히 데이터셋의 규모가 작을 때 더욱 유용하게 쓸 수 있습니다. 하지만 교차적으로 검증을 하니 자연스럽게 모델을 훈련하고 평가하는 비용이 증가한다는 단점이 있습니다.\n",
    "\n",
    "## 3. 종류\n",
    "\n",
    "&nbsp;&nbsp; **1)Hold-out Cross-Validation**\n",
    "\n",
    "![](https://img1.daumcdn.net/thumb/R1280x0/?scode=mtistory2&fname=https%3A%2F%2Fblog.kakaocdn.net%2Fdn%2Fbs21Ez%2FbtraImfeRz4%2Fv2XkvnLOZkKNLyMm2DRlKk%2Fimg.png)\n",
    "\n",
    "&nbsp;&nbsp;&nbsp;&nbsp; *출처 : https://heytech.tistory.com/113*\n",
    "\n",
    "&nbsp;&nbsp;&nbsp;&nbsp;-가장 기본적인 방법으로, 데이터셋을 훈련용과 테스트용으로 1회만 나누는 방식입니다.\n",
    "\n",
    "&nbsp;&nbsp; **2)K-Fold Cross-Validation**\n",
    "\n",
    "&nbsp;&nbsp;&nbsp;&nbsp; -데이터세트를 k개의 그룹(부분집합)으로 분할한 뒤 그 중 하나를 검증(validation) 데이터로, 나머지를 학습데이터로 사용해 모델을 학습시키는 과정을 k번 반복하는 방법입니다. 최종 성능 평가 결과값은 전체 k개 모델의 결과의 평균을 사용합니다.\n",
    "\n",
    "&nbsp;&nbsp;&nbsp;&nbsp; -장단점 : 모든 데이터를 훈련과 검증에 사용하기에 과적합과 과소적합에 강하며, 모델을 일반화할 수 있는 가능성이 높습니다. 하지만 순서가 고려된 데이터가 shuffle 되어있지 않거나, 각기 다른 fold에 중복값이 있을 경우 성능이 떨어질 수 있습니다. 이러한 단점을 보완하기 위해 Stratified K-Fold와 같은 방법이 등장했습니다.\n",
    "\n",
    "&nbsp;&nbsp;&nbsp;&nbsp; -세부 종류 : Stratified K-Fold, Group K-Fold\n",
    "\n",
    "&nbsp;&nbsp;&nbsp;&nbsp;&nbsp;&nbsp; (1)Stratified K-Fold : 데이터의 클래스값(y)이 불균형한 분포도를 가진 경우, 각 폴드의 클래스를 K 개수에 맞춰 분배해 원본 데이터의 분포와 동일하게끔 데이터 세트를 분배하는 방식입니다. 일반적인 K-Fold는 클래스를 무작위로 분배하기에 그에 따른 한계점을 보완한 것입니다.\n",
    "\n",
    "&nbsp;&nbsp;&nbsp;&nbsp;&nbsp;&nbsp; (2)Group K-Fold : 동일 그룹이 훈련 및 검증 데이터에 동시에 포함되지 않도록 하는 방법입니다.\n",
    "\n",
    "&nbsp;&nbsp; **3)Leave-p-Out Cross-Validation(LpOCV)**\n",
    "\n",
    "&nbsp;&nbsp; -전체 데이터의 관측값(x, y) 중에서 p개의 샘플을 선택해서 모델 검증에 활용하는 방법입니다. 훈련 및 검증 횟수는 조합 가능한 p의 갯수만큼 반복하며, K-Fold와 마찬가지로 생성된 전체 각 모델의 결과들을 평균내서 최종 결과값으로 활용합니다. 반복 횟수가 많아질 수 있는 만큼 비용이 클 수 있다는 단점이 있습니다.\n",
    "\n",
    "&nbsp;&nbsp; **4)Leave-One-Out CV(LOOCV)**\n",
    "\n",
    "&nbsp;&nbsp;&nbsp;&nbsp; -단 하나의 관측값(x, y)만을 검증 데이터로 활용하고 나머지는 훈련 데이터로 활용하는 방법입니다. 전체 데이터의 개수만큼 훈련 검증 횟수를 반복하기에 비용이 많이 들고 과적합 문제가 발생할 수 잇습니다.\n",
    "\n",
    "## 4. 참고자료\n",
    "\n",
    "&nbsp;&nbsp; https://heytech.tistory.com/113\n",
    "\n",
    "&nbsp;&nbsp; https://scribblinganything.tistory.com/699\n",
    "\n",
    "&nbsp;&nbsp; https://deep-learning-study.tistory.com/623\n",
    "\n",
    "## 5. 실습"
   ]
  },
  {
   "cell_type": "code",
   "execution_count": 1,
   "metadata": {},
   "outputs": [],
   "source": [
    "import pandas as pd\n",
    "import numpy as np\n",
    "from sklearn.model_selection import KFold, cross_val_score\n",
    "from sklearn import linear_model, tree, ensemble"
   ]
  },
  {
   "cell_type": "code",
   "execution_count": 2,
   "metadata": {},
   "outputs": [
    {
     "name": "stdout",
     "output_type": "stream",
     "text": [
      "Shape of input data: (1460, 34) and shape of target variable: (1460,)\n"
     ]
    },
    {
     "data": {
      "text/html": [
       "<div>\n",
       "<style scoped>\n",
       "    .dataframe tbody tr th:only-of-type {\n",
       "        vertical-align: middle;\n",
       "    }\n",
       "\n",
       "    .dataframe tbody tr th {\n",
       "        vertical-align: top;\n",
       "    }\n",
       "\n",
       "    .dataframe thead th {\n",
       "        text-align: right;\n",
       "    }\n",
       "</style>\n",
       "<table border=\"1\" class=\"dataframe\">\n",
       "  <thead>\n",
       "    <tr style=\"text-align: right;\">\n",
       "      <th></th>\n",
       "      <th>Id</th>\n",
       "      <th>MSSubClass</th>\n",
       "      <th>LotArea</th>\n",
       "      <th>OverallQual</th>\n",
       "      <th>OverallCond</th>\n",
       "      <th>YearBuilt</th>\n",
       "      <th>YearRemodAdd</th>\n",
       "      <th>BsmtFinSF1</th>\n",
       "      <th>BsmtFinSF2</th>\n",
       "      <th>BsmtUnfSF</th>\n",
       "      <th>...</th>\n",
       "      <th>GarageArea</th>\n",
       "      <th>WoodDeckSF</th>\n",
       "      <th>OpenPorchSF</th>\n",
       "      <th>EnclosedPorch</th>\n",
       "      <th>3SsnPorch</th>\n",
       "      <th>ScreenPorch</th>\n",
       "      <th>PoolArea</th>\n",
       "      <th>MiscVal</th>\n",
       "      <th>MoSold</th>\n",
       "      <th>YrSold</th>\n",
       "    </tr>\n",
       "  </thead>\n",
       "  <tbody>\n",
       "    <tr>\n",
       "      <th>0</th>\n",
       "      <td>1</td>\n",
       "      <td>60</td>\n",
       "      <td>8450</td>\n",
       "      <td>7</td>\n",
       "      <td>5</td>\n",
       "      <td>2003</td>\n",
       "      <td>2003</td>\n",
       "      <td>706</td>\n",
       "      <td>0</td>\n",
       "      <td>150</td>\n",
       "      <td>...</td>\n",
       "      <td>548</td>\n",
       "      <td>0</td>\n",
       "      <td>61</td>\n",
       "      <td>0</td>\n",
       "      <td>0</td>\n",
       "      <td>0</td>\n",
       "      <td>0</td>\n",
       "      <td>0</td>\n",
       "      <td>2</td>\n",
       "      <td>2008</td>\n",
       "    </tr>\n",
       "    <tr>\n",
       "      <th>1</th>\n",
       "      <td>2</td>\n",
       "      <td>20</td>\n",
       "      <td>9600</td>\n",
       "      <td>6</td>\n",
       "      <td>8</td>\n",
       "      <td>1976</td>\n",
       "      <td>1976</td>\n",
       "      <td>978</td>\n",
       "      <td>0</td>\n",
       "      <td>284</td>\n",
       "      <td>...</td>\n",
       "      <td>460</td>\n",
       "      <td>298</td>\n",
       "      <td>0</td>\n",
       "      <td>0</td>\n",
       "      <td>0</td>\n",
       "      <td>0</td>\n",
       "      <td>0</td>\n",
       "      <td>0</td>\n",
       "      <td>5</td>\n",
       "      <td>2007</td>\n",
       "    </tr>\n",
       "    <tr>\n",
       "      <th>2</th>\n",
       "      <td>3</td>\n",
       "      <td>60</td>\n",
       "      <td>11250</td>\n",
       "      <td>7</td>\n",
       "      <td>5</td>\n",
       "      <td>2001</td>\n",
       "      <td>2002</td>\n",
       "      <td>486</td>\n",
       "      <td>0</td>\n",
       "      <td>434</td>\n",
       "      <td>...</td>\n",
       "      <td>608</td>\n",
       "      <td>0</td>\n",
       "      <td>42</td>\n",
       "      <td>0</td>\n",
       "      <td>0</td>\n",
       "      <td>0</td>\n",
       "      <td>0</td>\n",
       "      <td>0</td>\n",
       "      <td>9</td>\n",
       "      <td>2008</td>\n",
       "    </tr>\n",
       "    <tr>\n",
       "      <th>3</th>\n",
       "      <td>4</td>\n",
       "      <td>70</td>\n",
       "      <td>9550</td>\n",
       "      <td>7</td>\n",
       "      <td>5</td>\n",
       "      <td>1915</td>\n",
       "      <td>1970</td>\n",
       "      <td>216</td>\n",
       "      <td>0</td>\n",
       "      <td>540</td>\n",
       "      <td>...</td>\n",
       "      <td>642</td>\n",
       "      <td>0</td>\n",
       "      <td>35</td>\n",
       "      <td>272</td>\n",
       "      <td>0</td>\n",
       "      <td>0</td>\n",
       "      <td>0</td>\n",
       "      <td>0</td>\n",
       "      <td>2</td>\n",
       "      <td>2006</td>\n",
       "    </tr>\n",
       "    <tr>\n",
       "      <th>4</th>\n",
       "      <td>5</td>\n",
       "      <td>60</td>\n",
       "      <td>14260</td>\n",
       "      <td>8</td>\n",
       "      <td>5</td>\n",
       "      <td>2000</td>\n",
       "      <td>2000</td>\n",
       "      <td>655</td>\n",
       "      <td>0</td>\n",
       "      <td>490</td>\n",
       "      <td>...</td>\n",
       "      <td>836</td>\n",
       "      <td>192</td>\n",
       "      <td>84</td>\n",
       "      <td>0</td>\n",
       "      <td>0</td>\n",
       "      <td>0</td>\n",
       "      <td>0</td>\n",
       "      <td>0</td>\n",
       "      <td>12</td>\n",
       "      <td>2008</td>\n",
       "    </tr>\n",
       "  </tbody>\n",
       "</table>\n",
       "<p>5 rows × 34 columns</p>\n",
       "</div>"
      ],
      "text/plain": [
       "   Id  MSSubClass  LotArea  OverallQual  OverallCond  YearBuilt  YearRemodAdd  \\\n",
       "0   1          60     8450            7            5       2003          2003   \n",
       "1   2          20     9600            6            8       1976          1976   \n",
       "2   3          60    11250            7            5       2001          2002   \n",
       "3   4          70     9550            7            5       1915          1970   \n",
       "4   5          60    14260            8            5       2000          2000   \n",
       "\n",
       "   BsmtFinSF1  BsmtFinSF2  BsmtUnfSF  ...  GarageArea  WoodDeckSF  \\\n",
       "0         706           0        150  ...         548           0   \n",
       "1         978           0        284  ...         460         298   \n",
       "2         486           0        434  ...         608           0   \n",
       "3         216           0        540  ...         642           0   \n",
       "4         655           0        490  ...         836         192   \n",
       "\n",
       "   OpenPorchSF  EnclosedPorch  3SsnPorch  ScreenPorch  PoolArea  MiscVal  \\\n",
       "0           61              0          0            0         0        0   \n",
       "1            0              0          0            0         0        0   \n",
       "2           42              0          0            0         0        0   \n",
       "3           35            272          0            0         0        0   \n",
       "4           84              0          0            0         0        0   \n",
       "\n",
       "   MoSold  YrSold  \n",
       "0       2    2008  \n",
       "1       5    2007  \n",
       "2       9    2008  \n",
       "3       2    2006  \n",
       "4      12    2008  \n",
       "\n",
       "[5 rows x 34 columns]"
      ]
     },
     "execution_count": 2,
     "metadata": {},
     "output_type": "execute_result"
    }
   ],
   "source": [
    "train_data = pd.read_csv('C:/Users/neddy/Documents/GitHub/머신러닝학습/house_prices_train.csv')\n",
    "\n",
    "# Remove rows with missing target values\n",
    "train_data.dropna(axis=0, subset=['SalePrice'], inplace=True)\n",
    "y = train_data.SalePrice # Target variable             \n",
    "train_data.drop(['SalePrice'], axis=1, inplace=True) # Removing target variable from training data\n",
    "\n",
    "train_data.drop(['LotFrontage', 'GarageYrBlt', 'MasVnrArea'], axis=1, inplace=True) # Remove columns with null values\n",
    "\n",
    "# Select numeric columns only\n",
    "numeric_cols = [cname for cname in train_data.columns if train_data[cname].dtype in ['int64', 'float64']]\n",
    "X = train_data[numeric_cols].copy()\n",
    "\n",
    "print(\"Shape of input data: {} and shape of target variable: {}\".format(X.shape, y.shape))\n",
    "\n",
    "X.head() # Show first 5 training examples"
   ]
  },
  {
   "cell_type": "code",
   "execution_count": 3,
   "metadata": {},
   "outputs": [
    {
     "name": "stdout",
     "output_type": "stream",
     "text": [
      "Fold:1, Train set: 1168, Test set:292\n",
      "Fold:2, Train set: 1168, Test set:292\n",
      "Fold:3, Train set: 1168, Test set:292\n",
      "Fold:4, Train set: 1168, Test set:292\n",
      "Fold:5, Train set: 1168, Test set:292\n"
     ]
    }
   ],
   "source": [
    "# Lets split the data into 5 folds.  \n",
    "# We will use this 'kf'(KFold splitting stratergy) object as input to cross_val_score() method\n",
    "kf =KFold(n_splits=5, shuffle=True, random_state=42)\n",
    "\n",
    "cnt = 1\n",
    "# split()  method generate indices to split data into training and test set.\n",
    "for train_index, test_index in kf.split(X, y):\n",
    "    print(f'Fold:{cnt}, Train set: {len(train_index)}, Test set:{len(test_index)}')\n",
    "    cnt += 1"
   ]
  },
  {
   "cell_type": "code",
   "execution_count": 4,
   "metadata": {},
   "outputs": [],
   "source": [
    "def rmse(score):\n",
    "    rmse = np.sqrt(-score)\n",
    "    print(f'rmse= {\"{:.2f}\".format(rmse)}')"
   ]
  },
  {
   "cell_type": "code",
   "execution_count": 5,
   "metadata": {},
   "outputs": [
    {
     "name": "stdout",
     "output_type": "stream",
     "text": [
      "Scores for each fold: [-1.39334669e+09 -1.32533433e+09 -3.39493937e+09 -9.31045536e+08\n",
      " -7.16620849e+08]\n",
      "rmse= 39398.70\n"
     ]
    }
   ],
   "source": [
    "#선형회귀\n",
    "score = cross_val_score(linear_model.LinearRegression(), X, y, cv= kf, scoring=\"neg_mean_squared_error\")\n",
    "print(f'Scores for each fold: {score}')\n",
    "rmse(score.mean())"
   ]
  },
  {
   "cell_type": "code",
   "execution_count": 6,
   "metadata": {},
   "outputs": [
    {
     "name": "stdout",
     "output_type": "stream",
     "text": [
      "Scores for each fold: [-2.28396934e+09 -1.70193863e+09 -2.50505513e+09 -1.48547479e+09\n",
      " -1.66691378e+09]\n",
      "rmse= 43916.63\n"
     ]
    }
   ],
   "source": [
    "#의사결정나무\n",
    "score = cross_val_score(tree.DecisionTreeRegressor(random_state= 42), X, y, cv=kf, scoring=\"neg_mean_squared_error\")\n",
    "print(f'Scores for each fold: {score}')\n",
    "rmse(score.mean())"
   ]
  },
  {
   "cell_type": "code",
   "execution_count": 7,
   "metadata": {},
   "outputs": [
    {
     "name": "stdout",
     "output_type": "stream",
     "text": [
      "Scores for each fold are: [-8.58316418e+08 -6.13821216e+08 -2.06121160e+09 -7.97273029e+08\n",
      " -5.68429309e+08]\n",
      "rmse= 31301.92\n"
     ]
    }
   ],
   "source": [
    "#랜포\n",
    "score = cross_val_score(ensemble.RandomForestRegressor(random_state= 42), X, y, cv= kf, scoring=\"neg_mean_squared_error\")\n",
    "print(f'Scores for each fold are: {score}')\n",
    "rmse(score.mean())"
   ]
  },
  {
   "cell_type": "markdown",
   "metadata": {},
   "source": [
    "KFold를 활용한 하이퍼파라미터 튜닝"
   ]
  },
  {
   "cell_type": "code",
   "execution_count": 8,
   "metadata": {},
   "outputs": [
    {
     "name": "stdout",
     "output_type": "stream",
     "text": [
      "For max depth: 1\n",
      "rmse= 58803.64\n",
      "For max depth: 2\n",
      "rmse= 50060.31\n",
      "For max depth: 3\n",
      "rmse= 42152.85\n",
      "For max depth: 4\n",
      "rmse= 39218.54\n",
      "For max depth: 5\n",
      "rmse= 40185.90\n",
      "For max depth: 6\n",
      "rmse= 40522.15\n",
      "For max depth: 7\n",
      "rmse= 41089.08\n",
      "For max depth: 8\n",
      "rmse= 41161.27\n",
      "For max depth: 9\n",
      "rmse= 41441.94\n",
      "For max depth: 10\n",
      "rmse= 41758.39\n"
     ]
    }
   ],
   "source": [
    "max_depth = [1,2,3,4,5,6,7,8,9,10]\n",
    "\n",
    "for val in max_depth:\n",
    "    score = cross_val_score(tree.DecisionTreeRegressor(max_depth= val, random_state= 42), X, y, cv= kf, scoring=\"neg_mean_squared_error\")\n",
    "    print(f'For max depth: {val}')\n",
    "    rmse(score.mean())"
   ]
  },
  {
   "cell_type": "code",
   "execution_count": 9,
   "metadata": {},
   "outputs": [
    {
     "name": "stdout",
     "output_type": "stream",
     "text": [
      "For estimators: 50\n",
      "rmse= 31450.86\n",
      "For estimators: 100\n",
      "rmse= 31301.92\n",
      "For estimators: 150\n",
      "rmse= 31187.45\n",
      "For estimators: 200\n",
      "rmse= 31176.16\n",
      "For estimators: 250\n",
      "rmse= 31246.61\n",
      "For estimators: 300\n",
      "rmse= 31242.74\n",
      "For estimators: 350\n",
      "rmse= 31313.74\n"
     ]
    }
   ],
   "source": [
    "estimators = [50, 100, 150, 200, 250, 300, 350]\n",
    "\n",
    "for count in estimators:\n",
    "    score = cross_val_score(ensemble.RandomForestRegressor(n_estimators= count, random_state= 42), X, y, cv= kf, scoring=\"neg_mean_squared_error\")\n",
    "    print(f'For estimators: {count}')\n",
    "    rmse(score.mean())"
   ]
  }
 ],
 "metadata": {
  "kernelspec": {
   "display_name": "Python 3",
   "language": "python",
   "name": "python3"
  },
  "language_info": {
   "codemirror_mode": {
    "name": "ipython",
    "version": 3
   },
   "file_extension": ".py",
   "mimetype": "text/x-python",
   "name": "python",
   "nbconvert_exporter": "python",
   "pygments_lexer": "ipython3",
   "version": "3.8.6"
  }
 },
 "nbformat": 4,
 "nbformat_minor": 2
}
