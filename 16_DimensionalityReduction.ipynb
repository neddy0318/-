{
 "cells": [
  {
   "cell_type": "markdown",
   "metadata": {},
   "source": [
    "# Dimensionality Reduction\n",
    "\n",
    "## 1. 개요\n",
    "\n",
    "## 2. 종류\n",
    "\n",
    "### 1)주성분 분석(PCA, Principal Component Analysis)\n",
    "\n",
    "### 2)독립 성분 분석(ICA, Independent Component Analysis)\n",
    "\n",
    "### 3)선형 판별 분석(LDA, Linear Discriminant Analysis)\n",
    "\n",
    "### 4)주파수 도메인 분석(FDA, Frequency Domain Analysis)\n",
    "\n",
    "### 5)잠재 의미 분석(LSA, Latent Semantic Analysis)\n",
    "\n",
    "### 6)특이값 분해(SVD, Singular Value Decomposition)\n",
    "\n",
    "### 7)t-SNE(t-Disturbuted Stochastic Neighbor Embedding)\n",
    "\n",
    "### 8)UMAP(Uniform Manifold Approximation and Projection)\n",
    "\n",
    "### 9)Autoencoders"
   ]
  },
  {
   "cell_type": "code",
   "execution_count": null,
   "metadata": {},
   "outputs": [],
   "source": []
  },
  {
   "cell_type": "code",
   "execution_count": null,
   "metadata": {},
   "outputs": [],
   "source": []
  }
 ],
 "metadata": {
  "language_info": {
   "name": "python"
  }
 },
 "nbformat": 4,
 "nbformat_minor": 2
}
